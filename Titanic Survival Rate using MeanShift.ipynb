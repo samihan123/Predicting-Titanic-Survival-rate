{
 "cells": [
  {
   "cell_type": "markdown",
   "metadata": {},
   "source": [
    "### Importing Libraries"
   ]
  },
  {
   "cell_type": "code",
   "execution_count": 5,
   "metadata": {},
   "outputs": [],
   "source": [
    "import numpy as np\n",
    "from sklearn.cluster import MeanShift, KMeans\n",
    "from sklearn import preprocessing\n",
    "import pandas as pd\n",
    "import matplotlib.pyplot as plt"
   ]
  },
  {
   "cell_type": "markdown",
   "metadata": {},
   "source": [
    "\n",
    "### Importing titanic dataset and setting it as data frame"
   ]
  },
  {
   "cell_type": "code",
   "execution_count": 7,
   "metadata": {},
   "outputs": [],
   "source": [
    "df = pd.read_excel('titanic.xls')\n"
   ]
  },
  {
   "cell_type": "markdown",
   "metadata": {},
   "source": [
    "### making a copy of data frame, So that we can use to test it"
   ]
  },
  {
   "cell_type": "code",
   "execution_count": 9,
   "metadata": {},
   "outputs": [],
   "source": [
    "original_df = pd.DataFrame.copy(df)\n"
   ]
  },
  {
   "cell_type": "markdown",
   "metadata": {},
   "source": [
    "### Let's see the dataset "
   ]
  },
  {
   "cell_type": "code",
   "execution_count": 11,
   "metadata": {},
   "outputs": [
    {
     "data": {
      "text/html": [
       "<div>\n",
       "<style scoped>\n",
       "    .dataframe tbody tr th:only-of-type {\n",
       "        vertical-align: middle;\n",
       "    }\n",
       "\n",
       "    .dataframe tbody tr th {\n",
       "        vertical-align: top;\n",
       "    }\n",
       "\n",
       "    .dataframe thead th {\n",
       "        text-align: right;\n",
       "    }\n",
       "</style>\n",
       "<table border=\"1\" class=\"dataframe\">\n",
       "  <thead>\n",
       "    <tr style=\"text-align: right;\">\n",
       "      <th></th>\n",
       "      <th>pclass</th>\n",
       "      <th>survived</th>\n",
       "      <th>name</th>\n",
       "      <th>sex</th>\n",
       "      <th>age</th>\n",
       "      <th>sibsp</th>\n",
       "      <th>parch</th>\n",
       "      <th>ticket</th>\n",
       "      <th>fare</th>\n",
       "      <th>cabin</th>\n",
       "      <th>embarked</th>\n",
       "      <th>boat</th>\n",
       "      <th>body</th>\n",
       "      <th>home.dest</th>\n",
       "    </tr>\n",
       "  </thead>\n",
       "  <tbody>\n",
       "    <tr>\n",
       "      <th>0</th>\n",
       "      <td>1</td>\n",
       "      <td>1</td>\n",
       "      <td>Allen, Miss. Elisabeth Walton</td>\n",
       "      <td>female</td>\n",
       "      <td>29.0000</td>\n",
       "      <td>0</td>\n",
       "      <td>0</td>\n",
       "      <td>24160</td>\n",
       "      <td>211.3375</td>\n",
       "      <td>B5</td>\n",
       "      <td>S</td>\n",
       "      <td>2</td>\n",
       "      <td>NaN</td>\n",
       "      <td>St Louis, MO</td>\n",
       "    </tr>\n",
       "    <tr>\n",
       "      <th>1</th>\n",
       "      <td>1</td>\n",
       "      <td>1</td>\n",
       "      <td>Allison, Master. Hudson Trevor</td>\n",
       "      <td>male</td>\n",
       "      <td>0.9167</td>\n",
       "      <td>1</td>\n",
       "      <td>2</td>\n",
       "      <td>113781</td>\n",
       "      <td>151.5500</td>\n",
       "      <td>C22 C26</td>\n",
       "      <td>S</td>\n",
       "      <td>11</td>\n",
       "      <td>NaN</td>\n",
       "      <td>Montreal, PQ / Chesterville, ON</td>\n",
       "    </tr>\n",
       "    <tr>\n",
       "      <th>2</th>\n",
       "      <td>1</td>\n",
       "      <td>0</td>\n",
       "      <td>Allison, Miss. Helen Loraine</td>\n",
       "      <td>female</td>\n",
       "      <td>2.0000</td>\n",
       "      <td>1</td>\n",
       "      <td>2</td>\n",
       "      <td>113781</td>\n",
       "      <td>151.5500</td>\n",
       "      <td>C22 C26</td>\n",
       "      <td>S</td>\n",
       "      <td>NaN</td>\n",
       "      <td>NaN</td>\n",
       "      <td>Montreal, PQ / Chesterville, ON</td>\n",
       "    </tr>\n",
       "    <tr>\n",
       "      <th>3</th>\n",
       "      <td>1</td>\n",
       "      <td>0</td>\n",
       "      <td>Allison, Mr. Hudson Joshua Creighton</td>\n",
       "      <td>male</td>\n",
       "      <td>30.0000</td>\n",
       "      <td>1</td>\n",
       "      <td>2</td>\n",
       "      <td>113781</td>\n",
       "      <td>151.5500</td>\n",
       "      <td>C22 C26</td>\n",
       "      <td>S</td>\n",
       "      <td>NaN</td>\n",
       "      <td>135.0</td>\n",
       "      <td>Montreal, PQ / Chesterville, ON</td>\n",
       "    </tr>\n",
       "    <tr>\n",
       "      <th>4</th>\n",
       "      <td>1</td>\n",
       "      <td>0</td>\n",
       "      <td>Allison, Mrs. Hudson J C (Bessie Waldo Daniels)</td>\n",
       "      <td>female</td>\n",
       "      <td>25.0000</td>\n",
       "      <td>1</td>\n",
       "      <td>2</td>\n",
       "      <td>113781</td>\n",
       "      <td>151.5500</td>\n",
       "      <td>C22 C26</td>\n",
       "      <td>S</td>\n",
       "      <td>NaN</td>\n",
       "      <td>NaN</td>\n",
       "      <td>Montreal, PQ / Chesterville, ON</td>\n",
       "    </tr>\n",
       "  </tbody>\n",
       "</table>\n",
       "</div>"
      ],
      "text/plain": [
       "   pclass  survived                                             name     sex  \\\n",
       "0       1         1                    Allen, Miss. Elisabeth Walton  female   \n",
       "1       1         1                   Allison, Master. Hudson Trevor    male   \n",
       "2       1         0                     Allison, Miss. Helen Loraine  female   \n",
       "3       1         0             Allison, Mr. Hudson Joshua Creighton    male   \n",
       "4       1         0  Allison, Mrs. Hudson J C (Bessie Waldo Daniels)  female   \n",
       "\n",
       "       age  sibsp  parch  ticket      fare    cabin embarked boat   body  \\\n",
       "0  29.0000      0      0   24160  211.3375       B5        S    2    NaN   \n",
       "1   0.9167      1      2  113781  151.5500  C22 C26        S   11    NaN   \n",
       "2   2.0000      1      2  113781  151.5500  C22 C26        S  NaN    NaN   \n",
       "3  30.0000      1      2  113781  151.5500  C22 C26        S  NaN  135.0   \n",
       "4  25.0000      1      2  113781  151.5500  C22 C26        S  NaN    NaN   \n",
       "\n",
       "                         home.dest  \n",
       "0                     St Louis, MO  \n",
       "1  Montreal, PQ / Chesterville, ON  \n",
       "2  Montreal, PQ / Chesterville, ON  \n",
       "3  Montreal, PQ / Chesterville, ON  \n",
       "4  Montreal, PQ / Chesterville, ON  "
      ]
     },
     "execution_count": 11,
     "metadata": {},
     "output_type": "execute_result"
    }
   ],
   "source": [
    "df.head()"
   ]
  },
  {
   "cell_type": "markdown",
   "metadata": {},
   "source": [
    "### Lets drop name and body from the data frame"
   ]
  },
  {
   "cell_type": "code",
   "execution_count": 12,
   "metadata": {},
   "outputs": [],
   "source": [
    "df.drop(['body','name'], 1, inplace=True)"
   ]
  },
  {
   "cell_type": "markdown",
   "metadata": {},
   "source": [
    "### preprocessing the data"
   ]
  },
  {
   "cell_type": "code",
   "execution_count": 13,
   "metadata": {},
   "outputs": [],
   "source": [
    "df.fillna(0,inplace=True)\n"
   ]
  },
  {
   "cell_type": "markdown",
   "metadata": {},
   "source": [
    "### Creating function to handle non numeric data , as non-numberic data won't be able plot or process in algortihm. It would not give us any good insights"
   ]
  },
  {
   "cell_type": "code",
   "execution_count": 15,
   "metadata": {},
   "outputs": [],
   "source": [
    "def handle_non_numerical_data(df):\n",
    "    \n",
    "    columns = df.columns.values\n",
    "\n",
    "    for column in columns:\n",
    "        text_digit_vals = {}\n",
    "        def convert_to_int(val):\n",
    "            return text_digit_vals[val]\n",
    "\n",
    "        if df[column].dtype != np.int64 and df[column].dtype != np.float64:\n",
    "            \n",
    "            column_contents = df[column].values.tolist()\n",
    "            # set is use to get unique data\n",
    "            unique_elements = set(column_contents)\n",
    "            x = 0\n",
    "            for unique in unique_elements:\n",
    "                if unique not in text_digit_vals:\n",
    "                    text_digit_vals[unique] = x\n",
    "                    x+=1\n",
    "            df[column] = list(map(convert_to_int,df[column]))\n",
    "\n",
    "    return df"
   ]
  },
  {
   "cell_type": "code",
   "execution_count": 16,
   "metadata": {},
   "outputs": [],
   "source": [
    "df = handle_non_numerical_data(df)\n"
   ]
  },
  {
   "cell_type": "code",
   "execution_count": 17,
   "metadata": {},
   "outputs": [],
   "source": [
    "X = np.array(df.drop(['survived'], 1).astype(float))\n",
    "y = np.array(df['survived'])\n"
   ]
  },
  {
   "cell_type": "markdown",
   "metadata": {},
   "source": [
    "### Preprocessing is use to scale the sparse data"
   ]
  },
  {
   "cell_type": "code",
   "execution_count": 19,
   "metadata": {},
   "outputs": [],
   "source": [
    "X = preprocessing.scale(X)"
   ]
  },
  {
   "cell_type": "markdown",
   "metadata": {},
   "source": [
    "### Declaring Mean Shift object and create a fitment"
   ]
  },
  {
   "cell_type": "code",
   "execution_count": 20,
   "metadata": {},
   "outputs": [
    {
     "data": {
      "text/plain": [
       "MeanShift(bandwidth=None, bin_seeding=False, cluster_all=True, min_bin_freq=1,\n",
       "     n_jobs=None, seeds=None)"
      ]
     },
     "execution_count": 20,
     "metadata": {},
     "output_type": "execute_result"
    }
   ],
   "source": [
    "clf = MeanShift()\n",
    "clf.fit(X)"
   ]
  },
  {
   "cell_type": "markdown",
   "metadata": {},
   "source": [
    "### Let looks what all we got from Mean Shift\n"
   ]
  },
  {
   "cell_type": "code",
   "execution_count": 21,
   "metadata": {},
   "outputs": [],
   "source": [
    "labels = clf.labels_\n",
    "cluster_centers = clf.cluster_centers_"
   ]
  },
  {
   "cell_type": "markdown",
   "metadata": {},
   "source": [
    "### Now we will use copy of dataframe which we had created before, and would add cluster group to it"
   ]
  },
  {
   "cell_type": "code",
   "execution_count": 23,
   "metadata": {},
   "outputs": [],
   "source": [
    "original_df['cluster_group']=np.nan"
   ]
  },
  {
   "cell_type": "code",
   "execution_count": null,
   "metadata": {},
   "outputs": [],
   "source": []
  },
  {
   "cell_type": "code",
   "execution_count": 24,
   "metadata": {},
   "outputs": [
    {
     "name": "stderr",
     "output_type": "stream",
     "text": [
      "/home/samihan/anaconda3/lib/python3.7/site-packages/pandas/core/indexing.py:205: SettingWithCopyWarning: \n",
      "A value is trying to be set on a copy of a slice from a DataFrame\n",
      "\n",
      "See the caveats in the documentation: http://pandas.pydata.org/pandas-docs/stable/user_guide/indexing.html#returning-a-view-versus-a-copy\n",
      "  self._setitem_with_indexer(indexer, value)\n"
     ]
    }
   ],
   "source": [
    "for i in range(len(X)):\n",
    "    original_df['cluster_group'].iloc[i] = labels[i]"
   ]
  },
  {
   "cell_type": "markdown",
   "metadata": {},
   "source": [
    "### lets check survival rate of each group of cluster we find out"
   ]
  },
  {
   "cell_type": "code",
   "execution_count": 27,
   "metadata": {},
   "outputs": [
    {
     "name": "stdout",
     "output_type": "stream",
     "text": [
      "{0: 0.3762685402029664, 1: 0.8947368421052632, 2: 0.1111111111111111}\n"
     ]
    }
   ],
   "source": [
    "n_clusters_ = len(np.unique(labels))\n",
    "survival_rates = {}\n",
    "for i in range(n_clusters_):\n",
    "    temp_df = original_df[ (original_df['cluster_group']==float(i)) ]\n",
    "    #print(temp_df.head())\n",
    "\n",
    "    survival_cluster = temp_df[  (temp_df['survived'] == 1) ]\n",
    "\n",
    "    survival_rate = len(survival_cluster) / len(temp_df)\n",
    "    #print(i,survival_rate)\n",
    "    survival_rates[i] = survival_rate\n",
    "    \n",
    "print(survival_rates)"
   ]
  },
  {
   "cell_type": "markdown",
   "metadata": {},
   "source": [
    "### By above information we can say that people in group 0 has 37% of survival rate that in group 1 is 89% and group 2 is 11%"
   ]
  },
  {
   "cell_type": "markdown",
   "metadata": {},
   "source": [
    "### lets see how data is been classify in this group\n",
    "\n",
    "first let's check group having highest percent"
   ]
  },
  {
   "cell_type": "code",
   "execution_count": 34,
   "metadata": {},
   "outputs": [
    {
     "name": "stdout",
     "output_type": "stream",
     "text": [
      "     pclass  survived                                               name  \\\n",
      "11        1         1  Astor, Mrs. John Jacob (Madeleine Talmadge Force)   \n",
      "17        1         1    Baxter, Mrs. James (Helene DeLaudeniere Chaput)   \n",
      "35        1         1                           Bowen, Miss. Grace Scott   \n",
      "49        1         1                 Cardeza, Mr. Thomas Drake Martinez   \n",
      "50        1         1  Cardeza, Mrs. James Warburton Martinez (Charlo...   \n",
      "66        1         1                        Chaudanson, Miss. Victorine   \n",
      "103       1         1                      Endres, Miss. Caroline Louise   \n",
      "111       1         1                     Fortune, Miss. Alice Elizabeth   \n",
      "112       1         1                         Fortune, Miss. Ethel Flora   \n",
      "113       1         1                         Fortune, Miss. Mabel Helen   \n",
      "115       1         0                                  Fortune, Mr. Mark   \n",
      "116       1         1                Fortune, Mrs. Mark (Mary McDougald)   \n",
      "183       1         1                             Lesurer, Mr. Gustave J   \n",
      "249       1         1                        Ryerson, Master. John Borie   \n",
      "250       1         1                         Ryerson, Miss. Emily Borie   \n",
      "251       1         1              Ryerson, Miss. Susan Parker \"Suzette\"   \n",
      "252       1         0                         Ryerson, Mr. Arthur Larned   \n",
      "253       1         1    Ryerson, Mrs. Arthur Larned (Emily Maria Borie)   \n",
      "302       1         1                                   Ward, Miss. Anna   \n",
      "\n",
      "        sex   age  sibsp  parch    ticket      fare            cabin embarked  \\\n",
      "11   female  18.0      1      0  PC 17757  227.5250          C62 C64        C   \n",
      "17   female  50.0      0      1  PC 17558  247.5208          B58 B60        C   \n",
      "35   female  45.0      0      0  PC 17608  262.3750              NaN        C   \n",
      "49     male  36.0      0      1  PC 17755  512.3292      B51 B53 B55        C   \n",
      "50   female  58.0      0      1  PC 17755  512.3292      B51 B53 B55        C   \n",
      "66   female  36.0      0      0  PC 17608  262.3750              B61        C   \n",
      "103  female  38.0      0      0  PC 17757  227.5250              C45        C   \n",
      "111  female  24.0      3      2     19950  263.0000      C23 C25 C27        S   \n",
      "112  female  28.0      3      2     19950  263.0000      C23 C25 C27        S   \n",
      "113  female  23.0      3      2     19950  263.0000      C23 C25 C27        S   \n",
      "115    male  64.0      1      4     19950  263.0000      C23 C25 C27        S   \n",
      "116  female  60.0      1      4     19950  263.0000      C23 C25 C27        S   \n",
      "183    male  35.0      0      0  PC 17755  512.3292             B101        C   \n",
      "249    male  13.0      2      2  PC 17608  262.3750  B57 B59 B63 B66        C   \n",
      "250  female  18.0      2      2  PC 17608  262.3750  B57 B59 B63 B66        C   \n",
      "251  female  21.0      2      2  PC 17608  262.3750  B57 B59 B63 B66        C   \n",
      "252    male  61.0      1      3  PC 17608  262.3750  B57 B59 B63 B66        C   \n",
      "253  female  48.0      1      3  PC 17608  262.3750  B57 B59 B63 B66        C   \n",
      "302  female  35.0      0      0  PC 17755  512.3292              NaN        C   \n",
      "\n",
      "    boat  body                                       home.dest  cluster_group  \n",
      "11     4   NaN                                    New York, NY            1.0  \n",
      "17     6   NaN                                    Montreal, PQ            1.0  \n",
      "35     4   NaN                                 Cooperstown, NY            1.0  \n",
      "49     3   NaN  Austria-Hungary / Germantown, Philadelphia, PA            1.0  \n",
      "50     3   NaN                    Germantown, Philadelphia, PA            1.0  \n",
      "66     4   NaN                                             NaN            1.0  \n",
      "103    4   NaN                                    New York, NY            1.0  \n",
      "111   10   NaN                                    Winnipeg, MB            1.0  \n",
      "112   10   NaN                                    Winnipeg, MB            1.0  \n",
      "113   10   NaN                                    Winnipeg, MB            1.0  \n",
      "115  NaN   NaN                                    Winnipeg, MB            1.0  \n",
      "116   10   NaN                                    Winnipeg, MB            1.0  \n",
      "183    3   NaN                                             NaN            1.0  \n",
      "249    4   NaN                 Haverford, PA / Cooperstown, NY            1.0  \n",
      "250    4   NaN                 Haverford, PA / Cooperstown, NY            1.0  \n",
      "251    4   NaN                 Haverford, PA / Cooperstown, NY            1.0  \n",
      "252  NaN   NaN                 Haverford, PA / Cooperstown, NY            1.0  \n",
      "253    4   NaN                 Haverford, PA / Cooperstown, NY            1.0  \n",
      "302    3   NaN                                             NaN            1.0  \n"
     ]
    }
   ],
   "source": [
    "print(original_df[ (original_df['cluster_group']==1) ])"
   ]
  },
  {
   "cell_type": "code",
   "execution_count": 37,
   "metadata": {},
   "outputs": [
    {
     "name": "stdout",
     "output_type": "stream",
     "text": [
      "      pclass  survived                                             name  \\\n",
      "0          1         1                    Allen, Miss. Elisabeth Walton   \n",
      "1          1         1                   Allison, Master. Hudson Trevor   \n",
      "2          1         0                     Allison, Miss. Helen Loraine   \n",
      "3          1         0             Allison, Mr. Hudson Joshua Creighton   \n",
      "4          1         0  Allison, Mrs. Hudson J C (Bessie Waldo Daniels)   \n",
      "...      ...       ...                                              ...   \n",
      "1304       3         0                             Zabour, Miss. Hileni   \n",
      "1305       3         0                            Zabour, Miss. Thamine   \n",
      "1306       3         0                        Zakarian, Mr. Mapriededer   \n",
      "1307       3         0                              Zakarian, Mr. Ortin   \n",
      "1308       3         0                               Zimmerman, Mr. Leo   \n",
      "\n",
      "         sex      age  sibsp  parch  ticket      fare    cabin embarked boat  \\\n",
      "0     female  29.0000      0      0   24160  211.3375       B5        S    2   \n",
      "1       male   0.9167      1      2  113781  151.5500  C22 C26        S   11   \n",
      "2     female   2.0000      1      2  113781  151.5500  C22 C26        S  NaN   \n",
      "3       male  30.0000      1      2  113781  151.5500  C22 C26        S  NaN   \n",
      "4     female  25.0000      1      2  113781  151.5500  C22 C26        S  NaN   \n",
      "...      ...      ...    ...    ...     ...       ...      ...      ...  ...   \n",
      "1304  female  14.5000      1      0    2665   14.4542      NaN        C  NaN   \n",
      "1305  female      NaN      1      0    2665   14.4542      NaN        C  NaN   \n",
      "1306    male  26.5000      0      0    2656    7.2250      NaN        C  NaN   \n",
      "1307    male  27.0000      0      0    2670    7.2250      NaN        C  NaN   \n",
      "1308    male  29.0000      0      0  315082    7.8750      NaN        S  NaN   \n",
      "\n",
      "       body                        home.dest  cluster_group  \n",
      "0       NaN                     St Louis, MO            0.0  \n",
      "1       NaN  Montreal, PQ / Chesterville, ON            0.0  \n",
      "2       NaN  Montreal, PQ / Chesterville, ON            0.0  \n",
      "3     135.0  Montreal, PQ / Chesterville, ON            0.0  \n",
      "4       NaN  Montreal, PQ / Chesterville, ON            0.0  \n",
      "...     ...                              ...            ...  \n",
      "1304  328.0                              NaN            0.0  \n",
      "1305    NaN                              NaN            0.0  \n",
      "1306  304.0                              NaN            0.0  \n",
      "1307    NaN                              NaN            0.0  \n",
      "1308    NaN                              NaN            0.0  \n",
      "\n",
      "[1281 rows x 15 columns]\n"
     ]
    }
   ],
   "source": [
    "print(original_df[ (original_df['cluster_group']==0) ])"
   ]
  },
  {
   "cell_type": "code",
   "execution_count": 38,
   "metadata": {},
   "outputs": [
    {
     "name": "stdout",
     "output_type": "stream",
     "text": [
      "      pclass  survived                                               name  \\\n",
      "629        3         0                        Andersson, Mr. Anders Johan   \n",
      "632        3         0  Andersson, Mrs. Anders Johan (Alfrida Konstant...   \n",
      "646        3         1  Asplund, Mrs. Carl Oscar (Selma Augusta Emilia...   \n",
      "831        3         0                     Goodwin, Mr. Charles Frederick   \n",
      "832        3         0            Goodwin, Mrs. Frederick (Augusta Tyler)   \n",
      "1106       3         0             Panula, Mrs. Juha (Maria Emilia Ojala)   \n",
      "1146       3         0               Rice, Mrs. William (Margaret Norton)   \n",
      "1179       3         0                              Sage, Mr. John George   \n",
      "1180       3         0                     Sage, Mrs. John (Annie Bullen)   \n",
      "\n",
      "         sex   age  sibsp  parch    ticket     fare cabin embarked boat  \\\n",
      "629     male  39.0      1      5    347082  31.2750   NaN        S  NaN   \n",
      "632   female  39.0      1      5    347082  31.2750   NaN        S  NaN   \n",
      "646   female  38.0      1      5    347077  31.3875   NaN        S   15   \n",
      "831     male  40.0      1      6   CA 2144  46.9000   NaN        S  NaN   \n",
      "832   female  43.0      1      6   CA 2144  46.9000   NaN        S  NaN   \n",
      "1106  female  41.0      0      5   3101295  39.6875   NaN        S  NaN   \n",
      "1146  female  39.0      0      5    382652  29.1250   NaN        Q  NaN   \n",
      "1179    male   NaN      1      9  CA. 2343  69.5500   NaN        S  NaN   \n",
      "1180  female   NaN      1      9  CA. 2343  69.5500   NaN        S  NaN   \n",
      "\n",
      "       body                             home.dest  cluster_group  \n",
      "629     NaN                   Sweden Winnipeg, MN            2.0  \n",
      "632     NaN                   Sweden Winnipeg, MN            2.0  \n",
      "646     NaN                 Sweden  Worcester, MA            2.0  \n",
      "831     NaN  Wiltshire, England Niagara Falls, NY            2.0  \n",
      "832     NaN  Wiltshire, England Niagara Falls, NY            2.0  \n",
      "1106    NaN                                   NaN            2.0  \n",
      "1146  327.0                                   NaN            2.0  \n",
      "1179    NaN                                   NaN            2.0  \n",
      "1180    NaN                                   NaN            2.0  \n"
     ]
    }
   ],
   "source": [
    "print(original_df[ (original_df['cluster_group']==2) ])"
   ]
  },
  {
   "cell_type": "markdown",
   "metadata": {},
   "source": [
    "### From above data we can find following insights"
   ]
  },
  {
   "cell_type": "markdown",
   "metadata": {},
   "source": [
    "### From Cluster 1, We find that survival rate for Pclass = 1 has higher survival rate where as from cluster 2 we can say that Pclass = 3 lower survival rate\n"
   ]
  },
  {
   "cell_type": "code",
   "execution_count": null,
   "metadata": {},
   "outputs": [],
   "source": []
  }
 ],
 "metadata": {
  "kernelspec": {
   "display_name": "Python 3",
   "language": "python",
   "name": "python3"
  },
  "language_info": {
   "codemirror_mode": {
    "name": "ipython",
    "version": 3
   },
   "file_extension": ".py",
   "mimetype": "text/x-python",
   "name": "python",
   "nbconvert_exporter": "python",
   "pygments_lexer": "ipython3",
   "version": "3.7.3"
  }
 },
 "nbformat": 4,
 "nbformat_minor": 2
}
